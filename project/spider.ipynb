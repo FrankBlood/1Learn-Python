{
 "cells": [
  {
   "cell_type": "code",
   "execution_count": 9,
   "metadata": {
    "collapsed": false
   },
   "outputs": [
    {
     "name": "stdout",
     "output_type": "stream",
     "text": [
      "开始爬取内容。。。\n",
      "正在处理页面：http://www.jikexueyuan.com/course/?pageNum=1\n",
      "正在处理页面：http://www.jikexueyuan.com/course/?pageNum=2\n",
      "正在处理页面：http://www.jikexueyuan.com/course/?pageNum=3\n",
      "正在处理页面：http://www.jikexueyuan.com/course/?pageNum=4\n",
      "正在处理页面：http://www.jikexueyuan.com/course/?pageNum=5\n",
      "正在处理页面：http://www.jikexueyuan.com/course/?pageNum=6\n",
      "正在处理页面：http://www.jikexueyuan.com/course/?pageNum=7\n",
      "正在处理页面：http://www.jikexueyuan.com/course/?pageNum=8\n",
      "正在处理页面：http://www.jikexueyuan.com/course/?pageNum=9\n",
      "正在处理页面：http://www.jikexueyuan.com/course/?pageNum=10\n",
      "正在处理页面：http://www.jikexueyuan.com/course/?pageNum=11\n",
      "正在处理页面：http://www.jikexueyuan.com/course/?pageNum=12\n",
      "正在处理页面：http://www.jikexueyuan.com/course/?pageNum=13\n",
      "正在处理页面：http://www.jikexueyuan.com/course/?pageNum=14\n",
      "正在处理页面：http://www.jikexueyuan.com/course/?pageNum=15\n",
      "正在处理页面：http://www.jikexueyuan.com/course/?pageNum=16\n",
      "正在处理页面：http://www.jikexueyuan.com/course/?pageNum=17\n",
      "正在处理页面：http://www.jikexueyuan.com/course/?pageNum=18\n",
      "正在处理页面：http://www.jikexueyuan.com/course/?pageNum=19\n",
      "正在处理页面：http://www.jikexueyuan.com/course/?pageNum=20\n",
      "[]\n"
     ]
    }
   ],
   "source": [
    "#-*_coding:utf8-*-\n",
    "import requests\n",
    "import re\n",
    "#import sys\n",
    "#reload(sys)\n",
    "#sys.setdefaultencoding(\"utf-8\")\n",
    "\n",
    "class spider(object):\n",
    "    def __init__(self):\n",
    "        print(u'开始爬取内容。。。')\n",
    "\n",
    "#getsource用来获取网页源代码\n",
    "    def getsource(self,url):\n",
    "        html = requests.get(url)\n",
    "        return html.text\n",
    "\n",
    "#changepage用来生产不同页数的链接\n",
    "    def changepage(self,url,total_page):\n",
    "        now_page = int(re.search('pageNum=(\\d+)',url,re.S).group(1))\n",
    "        page_group = []\n",
    "        for i in range(now_page,total_page+1):\n",
    "            link = re.sub('pageNum=\\d+','pageNum=%s'%i,url,re.S)\n",
    "            page_group.append(link)\n",
    "        return page_group\n",
    "#geteveryclass用来抓取每个课程块的信息\n",
    "    def geteveryclass(self,source):\n",
    "        everyclass = re.findall('(<li deg=\"\".*?</li>)',source,re.S)\n",
    "        return everyclass\n",
    "#getinfo用来从每个课程块中提取出我们需要的信息\n",
    "    def getinfo(self,eachclass):\n",
    "        info = {}\n",
    "        info['title'] = re.search('target=\"_blank\">(.*?)</a>',eachclass,re.S).group(1)\n",
    "        info['content'] = re.search('</h2><p>(.*?)</p>',eachclass,re.S).group(1)\n",
    "        timeandlevel = re.findall('<em>(.*?)</em>',eachclass,re.S)\n",
    "        info['classtime'] = timeandlevel[0]\n",
    "        info['classlevel'] = timeandlevel[1]\n",
    "        info['learnnum'] = re.search('\"learn-number\">(.*?)</em>',eachclass,re.S).group(1)\n",
    "        return info\n",
    "#saveinfo用来保存结果到info.txt文件中\n",
    "    def saveinfo(self,classinfo):\n",
    "        f = open('info.txt','w')\n",
    "        for each in classinfo:\n",
    "            f.writelines('title:' + each['title'] + '\\n')\n",
    "            f.writelines('content:' + each['content'] + '\\n')\n",
    "            f.writelines('classtime:' + each['classtime'] + '\\n')\n",
    "            f.writelines('classlevel:' + each['classlevel'] + '\\n')\n",
    "            f.writelines('learnnum:' + each['learnnum'] +'\\n\\n')\n",
    "        f.close()\n",
    "\n",
    "if __name__ == '__main__':\n",
    "\n",
    "    classinfo = []\n",
    "    url = 'http://www.jikexueyuan.com/course/?pageNum=1'\n",
    "    jikespider = spider()\n",
    "    all_links = jikespider.changepage(url,20)\n",
    "    for link in all_links:\n",
    "        print(u'正在处理页面：' + link)\n",
    "        html = jikespider.getsource(link)\n",
    "        everyclass = jikespider.geteveryclass(html)\n",
    "        for each in everyclass:\n",
    "            info = jikespider.getinfo(each)\n",
    "            classinfo.append(info)\n",
    "    jikespider.saveinfo(classinfo)\n",
    "    print(classinfo)"
   ]
  },
  {
   "cell_type": "code",
   "execution_count": null,
   "metadata": {
    "collapsed": true
   },
   "outputs": [],
   "source": []
  }
 ],
 "metadata": {
  "kernelspec": {
   "display_name": "Python 3",
   "language": "python",
   "name": "python3"
  },
  "language_info": {
   "codemirror_mode": {
    "name": "ipython",
    "version": 3
   },
   "file_extension": ".py",
   "mimetype": "text/x-python",
   "name": "python",
   "nbconvert_exporter": "python",
   "pygments_lexer": "ipython3",
   "version": "3.5.1"
  }
 },
 "nbformat": 4,
 "nbformat_minor": 0
}
