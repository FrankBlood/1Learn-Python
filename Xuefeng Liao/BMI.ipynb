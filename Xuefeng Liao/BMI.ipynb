{
 "cells": [
  {
   "cell_type": "code",
   "execution_count": 18,
   "metadata": {
    "collapsed": false,
    "scrolled": false
   },
   "outputs": [
    {
     "name": "stdout",
     "output_type": "stream",
     "text": [
      "Enter your height:12\n",
      "Enter your weight:0\n"
     ]
    }
   ],
   "source": [
    "while True:\n",
    "    height = float(input('Enter your height:'))\n",
    "    weight = float(input('Enter your weight:'))\n",
    "    if height == 0:\n",
    "        break\n",
    "    if weight == 0:\n",
    "        break\n",
    "    bmi=weight / (height*height)\n",
    "    if bmi < 18.5:\n",
    "        print('过轻。')\n",
    "    elif bmi < 25:\n",
    "        print('正常')\n",
    "    elif bmi < 28:\n",
    "        print('过重')\n",
    "    elif bmi < 32:\n",
    "        print('肥胖')\n",
    "    else:\n",
    "        print('严重肥胖')"
   ]
  },
  {
   "cell_type": "code",
   "execution_count": 19,
   "metadata": {
    "collapsed": false
   },
   "outputs": [
    {
     "name": "stdout",
     "output_type": "stream",
     "text": [
      "still be recovered.\n"
     ]
    }
   ],
   "source": [
    "print('still be recovered.')"
   ]
  },
  {
   "cell_type": "code",
   "execution_count": null,
   "metadata": {
    "collapsed": true
   },
   "outputs": [],
   "source": []
  }
 ],
 "metadata": {
  "kernelspec": {
   "display_name": "Python 3",
   "language": "python",
   "name": "python3"
  },
  "language_info": {
   "codemirror_mode": {
    "name": "ipython",
    "version": 3
   },
   "file_extension": ".py",
   "mimetype": "text/x-python",
   "name": "python",
   "nbconvert_exporter": "python",
   "pygments_lexer": "ipython3",
   "version": "3.5.1"
  }
 },
 "nbformat": 4,
 "nbformat_minor": 0
}
