{
 "cells": [
  {
   "cell_type": "code",
   "execution_count": 1,
   "metadata": {
    "collapsed": false
   },
   "outputs": [
    {
     "name": "stdout",
     "output_type": "stream",
     "text": [
      "1000000042485480\n",
      "44721361\n",
      "The runing time is 12.76 s\n"
     ]
    }
   ],
   "source": [
    "import time\n",
    "start = time.clock()\n",
    "end = time.clock()\n",
    "sum = 0\n",
    "i = 0\n",
    "while True:\n",
    "    if sum > 1000000000000000:\n",
    "        break\n",
    "    sum += i\n",
    "    i += 1\n",
    "print(sum)\n",
    "print(i)\n",
    "end = time.clock()\n",
    "print('The runing time is %.2f s'%(end - start))"
   ]
  },
  {
   "cell_type": "code",
   "execution_count": null,
   "metadata": {
    "collapsed": true
   },
   "outputs": [],
   "source": []
  }
 ],
 "metadata": {
  "kernelspec": {
   "display_name": "Python 3",
   "language": "python",
   "name": "python3"
  },
  "language_info": {
   "codemirror_mode": {
    "name": "ipython",
    "version": 3
   },
   "file_extension": ".py",
   "mimetype": "text/x-python",
   "name": "python",
   "nbconvert_exporter": "python",
   "pygments_lexer": "ipython3",
   "version": "3.5.1"
  }
 },
 "nbformat": 4,
 "nbformat_minor": 0
}
