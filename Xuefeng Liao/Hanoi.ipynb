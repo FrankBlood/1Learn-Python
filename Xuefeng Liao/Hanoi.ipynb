{
 "cells": [
  {
   "cell_type": "code",
   "execution_count": 4,
   "metadata": {
    "collapsed": false
   },
   "outputs": [],
   "source": [
    "count = 1\n",
    "def move(n, a, b, c):\n",
    "    global count\n",
    "    if n < 1:\n",
    "        print(False)\n",
    "    elif n == 1:\n",
    "        print('\\t%s -> %s'%(a, c))\n",
    "        count += 1\n",
    "    else:\n",
    "        move(n-1, a, c, b)\n",
    "        print('\\t%s -> %s'%(a, c))\n",
    "        move(n-1, b, a, c)"
   ]
  },
  {
   "cell_type": "code",
   "execution_count": 7,
   "metadata": {
    "collapsed": false,
    "scrolled": true
   },
   "outputs": [
    {
     "name": "stdout",
     "output_type": "stream",
     "text": [
      "\tA -> C\n",
      "\tA -> B\n",
      "\tC -> B\n",
      "\tA -> C\n",
      "\tB -> A\n",
      "\tB -> C\n",
      "\tA -> C\n"
     ]
    },
    {
     "data": {
      "text/plain": [
       "133"
      ]
     },
     "execution_count": 7,
     "metadata": {},
     "output_type": "execute_result"
    }
   ],
   "source": [
    "move(3,'A','B','C')\n",
    "count"
   ]
  },
  {
   "cell_type": "code",
   "execution_count": null,
   "metadata": {
    "collapsed": true
   },
   "outputs": [],
   "source": []
  }
 ],
 "metadata": {
  "kernelspec": {
   "display_name": "Python 3",
   "language": "python",
   "name": "python3"
  },
  "language_info": {
   "codemirror_mode": {
    "name": "ipython",
    "version": 3
   },
   "file_extension": ".py",
   "mimetype": "text/x-python",
   "name": "python",
   "nbconvert_exporter": "python",
   "pygments_lexer": "ipython3",
   "version": "3.5.1"
  }
 },
 "nbformat": 4,
 "nbformat_minor": 0
}
