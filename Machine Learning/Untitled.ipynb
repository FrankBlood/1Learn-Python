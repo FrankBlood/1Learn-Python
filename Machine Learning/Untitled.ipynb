{
 "cells": [
  {
   "cell_type": "code",
   "execution_count": 1,
   "metadata": {
    "collapsed": true
   },
   "outputs": [],
   "source": [
    "from numpy import *\n",
    "\n",
    "def loadDataSet(fileName, delim = '\\t'):\n",
    "    fr = open(fileName)\n",
    "    stringArr = [line.strip().split(delim) for line in fr.readline()]\n",
    "    datArr = [map(float, line) for line in stringArr]\n",
    "    return mat(datArr)"
   ]
  },
  {
   "cell_type": "code",
   "execution_count": 2,
   "metadata": {
    "collapsed": true
   },
   "outputs": [],
   "source": [
    "def pca(dataMat, topNfeat = 999999999):\n",
    "    meanVals = mean(dataMat, axis = 0)\n",
    "    meanRemoved = dataMat - meanVals\n",
    "    covMat = cov(meanRemoved, rowvar = 0)\n",
    "    eigVals, eigVects = linalg.eig(mat(covMat))\n",
    "    eigValInd = argsort(eigVals)\n",
    "    eigValInd = eigValInd[:-(topNfeat + 1): -1]\n",
    "    redEigVects = eigVects[:, eigValInd]\n",
    "    lowDDataMat = meanRemoved * redEigVects\n",
    "    reconMat = (lowDDataMat * redEigVects.T) + meanVals\n",
    "    return lowDDataMat, reconMat"
   ]
  },
  {
   "cell_type": "code",
   "execution_count": null,
   "metadata": {
    "collapsed": true
   },
   "outputs": [],
   "source": []
  }
 ],
 "metadata": {
  "kernelspec": {
   "display_name": "Python 3",
   "language": "python",
   "name": "python3"
  },
  "language_info": {
   "codemirror_mode": {
    "name": "ipython",
    "version": 3
   },
   "file_extension": ".py",
   "mimetype": "text/x-python",
   "name": "python",
   "nbconvert_exporter": "python",
   "pygments_lexer": "ipython3",
   "version": "3.5.1"
  }
 },
 "nbformat": 4,
 "nbformat_minor": 0
}
